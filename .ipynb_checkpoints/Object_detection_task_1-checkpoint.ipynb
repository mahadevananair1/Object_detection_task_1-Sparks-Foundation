{
 "cells": [
  {
   "cell_type": "markdown",
   "source": [
    "# Graduate Rotational Internship Program @The Sparks Foundation\r\n",
    "## **Author** : **Mahadevan A Nair**\r\n",
    "### **Task 1** : Object Detection\r\n",
    "\r\n",
    "* *Description : Implement an object detector which identifies the classes of the objects in an image or video*"
   ],
   "metadata": {}
  },
  {
   "cell_type": "code",
   "execution_count": null,
   "source": [
    "#importing opencv and numpy modules\r\n",
    "import cv2\r\n",
    "import numpy as np"
   ],
   "outputs": [],
   "metadata": {}
  },
  {
   "cell_type": "code",
   "execution_count": null,
   "source": [
    "#declaring threshold\r\n",
    "whT = 320"
   ],
   "outputs": [],
   "metadata": {}
  },
  {
   "cell_type": "code",
   "execution_count": null,
   "source": [
    "#loading coco names containing the objects\r\n",
    "className = []\r\n",
    "with open('coco.names', 'rt') as f:\r\n",
    "    classNames = f.read().splitlines()"
   ],
   "outputs": [],
   "metadata": {}
  },
  {
   "cell_type": "code",
   "execution_count": null,
   "source": [
    "#loading the yolo weights and configuration files\r\n",
    "model_cfg = 'yolov3.cfg'\r\n",
    "model_weights = 'yolov3.weights'"
   ],
   "outputs": [],
   "metadata": {}
  },
  {
   "cell_type": "code",
   "execution_count": null,
   "source": [
    "#setting opencv as backend and target as cpu\r\n",
    "net = cv2.dnn.readNet(model_cfg, model_weights)\r\n",
    "net.setPreferableBackend(cv2.dnn.DNN_BACKEND_OPENCV)\r\n",
    "net.setPreferableTarget(cv2.dnn.DNN_TARGET_CPU)"
   ],
   "outputs": [],
   "metadata": {}
  },
  {
   "cell_type": "code",
   "execution_count": null,
   "source": [
    "#function for object detection \r\n",
    "def findObjects(output, img):\r\n",
    "    hT, wT, cT = img.shape\r\n",
    "    boxes = []\r\n",
    "    class_ids = []\r\n",
    "    confidences = []\r\n",
    "\r\n",
    "    for output in outputs:\r\n",
    "        for detection in output:\r\n",
    "            scores = detection[5:]\r\n",
    "            class_id = np.argmax(scores)\r\n",
    "            confidence = scores[class_id]\r\n",
    "            if confidence > 0.5:\r\n",
    "                w = int(detection[2]*wT)\r\n",
    "                h = int(detection[3]*hT)\r\n",
    "                x = int((detection[0]*wT)-w/2)\r\n",
    "                y = int((detection[1]*hT)-h/2)\r\n",
    "                boxes.append([x, y, w, h])\r\n",
    "                class_ids.append(class_id)\r\n",
    "                confidences.append(float(confidence))\r\n",
    "\r\n",
    "    indexes = cv2.dnn.NMSBoxes(boxes, confidences, 0.5, nms_threshold=0.3)\r\n",
    "    print(indexes)\r\n",
    "    \r\n",
    "    #setting the color and font to be displayed\r\n",
    "    font = cv2.FONT_HERSHEY_SIMPLEX\r\n",
    "    colors = np.random.uniform(0, 255, size=(len(boxes), 3))\r\n",
    "    \r\n",
    "    for i in indexes.flatten():\r\n",
    "        x, y, w, h = boxes[i]\r\n",
    "        label = str(classNames[class_ids[i]])\r\n",
    "        confidence = str(round(confidences[i],2))\r\n",
    "        color = colors[i]\r\n",
    "        cv2.rectangle(img, (x, y), (x+w, y+h), color, 2)\r\n",
    "        cv2.putText(img, label + \" \" + confidence, (x, y+20), font, 0.6, (255, 0, 255), 2)"
   ],
   "outputs": [],
   "metadata": {}
  },
  {
   "cell_type": "code",
   "execution_count": null,
   "source": [
    "#opencv code for loading video\r\n",
    "cap = cv2.VideoCapture('video.mp4')\r\n",
    "while True :\r\n",
    "    success, img = cap.read()\r\n",
    "    blob = cv2.dnn.blobFromImage(img, 1/255, (whT, whT), [0, 0, 0], 1, crop= False)\r\n",
    "    net.setInput(blob)\r\n",
    "\r\n",
    "    layerNames = net.getLayerNames()\r\n",
    "    out_Names = [layerNames[i[0]-1] for i in net.getUnconnectedOutLayers()]\r\n",
    "    print(out_Names)\r\n",
    "    \r\n",
    "    outputs = net.forward(out_Names)\r\n",
    "    findObjects(outputs, img)\r\n",
    "\r\n",
    "    cv2.imshow('image', img)\r\n",
    "    if cv2.waitKey(1) == 27:\r\n",
    "        break\r\n",
    "\r\n",
    "cap.release()\r\n",
    "cv2.destroyAllWindows()"
   ],
   "outputs": [],
   "metadata": {}
  },
  {
   "cell_type": "code",
   "execution_count": null,
   "source": [],
   "outputs": [],
   "metadata": {}
  }
 ],
 "metadata": {
  "kernelspec": {
   "name": "python3",
   "display_name": "Python 3.9.7 64-bit"
  },
  "language_info": {
   "codemirror_mode": {
    "name": "ipython",
    "version": 3
   },
   "file_extension": ".py",
   "mimetype": "text/x-python",
   "name": "python",
   "nbconvert_exporter": "python",
   "pygments_lexer": "ipython3",
   "version": "3.9.7"
  },
  "interpreter": {
   "hash": "fddd60310b09314add61920b7e6f1e7705dbb165377f483e33393e9a4445fa67"
  }
 },
 "nbformat": 4,
 "nbformat_minor": 5
}